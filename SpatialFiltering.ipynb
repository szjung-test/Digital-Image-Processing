{
 "cells": [
  {
   "cell_type": "markdown",
   "metadata": {},
   "source": [
    "1. 밝기 변환과 공간 필터링의 기초\n",
    "- 공간 도메인 기법들은 영상의 화소들에 직접 작용.\n",
    "- 일반적으로 공간 도메인 기법들이 계산적으로 더 효율적이고 자원도 더 적게 사용\n",
    "- 이웃(공간 필터)를 통한 공간 필터링\n",
    "- k값 보다 낮은 r값들은 변환 함수에 의해서 흑색으로 s의 좁은 범위에 압축. 반대로 높으면 흰색으로 압축\n",
    "- k값을 기분으로 이진 처리를 할 수 있음(k가 결국 threshold value)\n",
    "- 결과가 한 점에서 처리되는 것 점 처리 기법"
   ]
  },
  {
   "cell_type": "markdown",
   "metadata": {},
   "source": [
    "# 기본 밝기 변환 함수들\n",
    "- 밝기 변환은 가장 간단한 영상 처리에 포함\n",
    "- 8비트 환경에서 변환 함수 T의 값들을 담고 있는 테이블은 256개의 요소를 가짐\n",
    "- 영상 개선을 위해 사용된 함수는 선형, 로가리듬, 거듭제곱-법칙 등 \n",
    "- 항등 함수는 input, output 밝기가 같은 경우"
   ]
  },
  {
   "cell_type": "markdown",
   "metadata": {},
   "source": [
    "### 영상 네거티브\n",
    "- 영상의 밝기 레벨을 반전 시키면 네거티브와 같은 결과를 만든다.\n",
    "- 변환이 적용되는 것은 주로 이미지가 검은 영역이 많을때 흰색이나 그레이의 디테일을 개선 시키는데 적합"
   ]
  },
  {
   "cell_type": "markdown",
   "metadata": {},
   "source": [
    "### 로그 변환\n",
    "- 로그의 일반형, c는 상수이고 r은 0이상이다.\n",
    "- 로그 변환은 입력의 낮은 밝기 값의 좁은 범위의 출력 레벨로 매핑"
   ]
  },
  {
   "cell_type": "markdown",
   "metadata": {},
   "source": [
    "### 거듭제곱-법칙(gamma) 변환\n",
    "- c와 𝛾는 양의 상수이다. 로그 함수와 다르게 단순히 감마값을 바꿔서 얻는 변화 곡선을 주목"
   ]
  },
  {
   "cell_type": "markdown",
   "metadata": {},
   "source": [
    "### 구간 선형 변환 함수\n",
    "- 영상 네거티브, 로그 변환, 감마 변환에 대해 보완된 방법이 구간 선형 함수 사용\n",
    "- 장점 : 구간 함수들의 형태가 임의로 복잡해질 수 있다.\n",
    "- 단점 : 함수를 규정하기 위한 사용자 입력이 훨씬 더 많이 필요"
   ]
  },
  {
   "cell_type": "markdown",
   "metadata": {},
   "source": [
    "1. Contrast stretching\n",
    "- 가장 간단한 구간 선형 함수 중 하나\n",
    "- 낮은 콘트라스트 원인은 나쁜 조명, 영상화 센서의 좁은 동적 범위, 영상 획득 시 잘못된 조리개 설정 등\n",
    "- 콘트라스트 스트레칭은 밝기 레벨의 범위를 넓혀 매체의 전체 밝기 범위를 사용하는 것\n",
    "\n",
    "2. Intensity-level slicing\n",
    "- 특정 밝기 범위를 강조하기 위한 프로세스로 대개 두 가지 방법을 기반으로 변형\n",
    "    - 관심 영역에 드는 값들을 한 값으로 표시하고 나머지를 다른 값으로 표시하는 방법을 결과로 이진 영상을 만든다.\n",
    "    - 원하는 범위만 어둡거나 밝게 만들고 나머지는 그대로 둔다.\n",
    "\n",
    "3. Bit-Plane sclicing\n",
    "- 각 비트에 대하여 0 또는 1인지 검사하여 영상 형태로 만든 것으로 8비트 영상은 8개의 1비트 평면들로 구성\n",
    "- 영상을 비트 평면들로 분해하는 것은 영상에서의 각 비트의 상대적 중요성을 분석하는데 유용\n",
    "- n번째 비트를 십진수로 전환하여 복구하는데 사용할 수 있다. 주요 특징들은 복원되나 원래 이미지보다 단조로운 표현 확인\n",
    "\n",
    "4. 히스토그램 처리\n",
    "- 밝기 레벨의 범위가 [0, L-1]인 디지털 영상의 "
   ]
  }
 ],
 "metadata": {
  "kernelspec": {
   "display_name": "Python 3.8.10 64-bit",
   "language": "python",
   "name": "python3"
  },
  "language_info": {
   "codemirror_mode": {
    "name": "ipython",
    "version": 3
   },
   "file_extension": ".py",
   "mimetype": "text/x-python",
   "name": "python",
   "nbconvert_exporter": "python",
   "pygments_lexer": "ipython3",
   "version": "3.8.10"
  },
  "orig_nbformat": 4,
  "vscode": {
   "interpreter": {
    "hash": "5b3ded1ccb95c1d9bd405e7b823d9e85424cde40fbb5985eb47e999ef50e15b4"
   }
  }
 },
 "nbformat": 4,
 "nbformat_minor": 2
}
